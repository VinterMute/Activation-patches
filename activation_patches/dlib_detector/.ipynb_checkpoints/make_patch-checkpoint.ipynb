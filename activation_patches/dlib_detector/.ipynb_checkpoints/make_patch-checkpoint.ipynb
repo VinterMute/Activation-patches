{
 "cells": [
  {
   "cell_type": "markdown",
   "id": "539d6c12",
   "metadata": {},
   "source": [
    "### Этап первый Загрузка и сравнение моделей"
   ]
  },
  {
   "cell_type": "code",
   "execution_count": 8,
   "id": "56d341e9",
   "metadata": {},
   "outputs": [
    {
     "data": {
      "text/plain": [
       "True"
      ]
     },
     "execution_count": 8,
     "metadata": {},
     "output_type": "execute_result"
    }
   ],
   "source": [
    "import dlib\n",
    "import cv2\n",
    "from matplotlib import pyplot as plt\n",
    "from IPython.display import display, Image\n",
    "\n",
    "# Загрузите изображение с помощью OpenCV|\n",
    "img = cv2.imread('test2.jpg')\n",
    "\n",
    "\n",
    "# Инициализируйте детектор лиц mmod\n",
    "detector = dlib.cnn_face_detection_model_v1('mmod_human_face_detector.dat')\n",
    "\n",
    "# Найдите лица на изображении\n",
    "detections = detector(img)\n",
    "\n",
    "for face in detections:\n",
    "    l, t, r, b = (face.rect.left(), face.rect.top(), face.rect.right(), face.rect.bottom())\n",
    "    cv2.rectangle(img, (l, t), (r, b), (0, 255, 0), 2)\n",
    "\n",
    "# Показать изображение с обведенными лицами\n",
    "\n",
    "cv2.imwrite(\"detect.jpg\", img) \n"
   ]
  },
  {
   "cell_type": "markdown",
   "id": "f06d1d87",
   "metadata": {},
   "source": [
    "### Этап второй загружаем модель в pytorch"
   ]
  },
  {
   "cell_type": "code",
   "execution_count": 12,
   "id": "74958c49",
   "metadata": {},
   "outputs": [],
   "source": [
    "from  webcam_example import *"
   ]
  },
  {
   "cell_type": "code",
   "execution_count": 7,
   "id": "8b5535d5",
   "metadata": {},
   "outputs": [],
   "source": [
    "import sys\n",
    "import time\n",
    "import torch\n",
    "import torch.nn as nn\n",
    "import cv2\n",
    "from torch.autograd import Variable\n",
    "import numpy as np\n",
    "from skimage.feature import peak_local_max\n",
    "from skimage.transform import resize as sk_resize"
   ]
  },
  {
   "cell_type": "code",
   "execution_count": 13,
   "id": "9b763d7b",
   "metadata": {},
   "outputs": [
    {
     "ename": "NameError",
     "evalue": "name 'model' is not defined",
     "output_type": "error",
     "traceback": [
      "\u001b[0;31m---------------------------------------------------------------------------\u001b[0m",
      "\u001b[0;31mNameError\u001b[0m                                 Traceback (most recent call last)",
      "\u001b[0;32m/tmp/ipykernel_5237/658559370.py\u001b[0m in \u001b[0;36m<module>\u001b[0;34m\u001b[0m\n\u001b[0;32m----> 1\u001b[0;31m \u001b[0mrecepive_field_size\u001b[0m\u001b[0;34m,\u001b[0m \u001b[0moffset\u001b[0m \u001b[0;34m=\u001b[0m \u001b[0mrecepive_field\u001b[0m\u001b[0;34m(\u001b[0m\u001b[0mmodel\u001b[0m\u001b[0;34m)\u001b[0m\u001b[0;34m\u001b[0m\u001b[0;34m\u001b[0m\u001b[0m\n\u001b[0m\u001b[1;32m      2\u001b[0m \u001b[0;31m# print \"Receptive field\", recepive_field_size, \"Center offset\", offset\u001b[0m\u001b[0;34m\u001b[0m\u001b[0;34m\u001b[0m\u001b[0;34m\u001b[0m\u001b[0m\n\u001b[1;32m      3\u001b[0m \u001b[0mscales\u001b[0m \u001b[0;34m=\u001b[0m \u001b[0;34m[\u001b[0m\u001b[0;36m2.7\u001b[0m\u001b[0;34m,\u001b[0m \u001b[0;36m3.5\u001b[0m\u001b[0;34m]\u001b[0m\u001b[0;34m\u001b[0m\u001b[0;34m\u001b[0m\u001b[0m\n\u001b[1;32m      4\u001b[0m \u001b[0mcoordinates\u001b[0m \u001b[0;34m=\u001b[0m \u001b[0;34m[\u001b[0m\u001b[0;34m]\u001b[0m\u001b[0;34m\u001b[0m\u001b[0;34m\u001b[0m\u001b[0m\n\u001b[1;32m      5\u001b[0m \u001b[0;34m\u001b[0m\u001b[0m\n",
      "\u001b[0;31mNameError\u001b[0m: name 'model' is not defined"
     ]
    }
   ],
   "source": [
    "model = get_model(\"dlib_facedetectoor_\")\n",
    "recepive_field_size, offset = recepive_field(model)\n",
    "# print \"Receptive field\", recepive_field_size, \"Center offset\", offset\n",
    "scales = [2.7, 3.5]\n",
    "coordinates = []\n",
    "\n",
    "t0 = time.time()\n",
    "coordinates = detect_multi_scale(model, img, scales, recepive_field_size)\n",
    "t1 = time.time()\n",
    "print(\"Inference time for frame\", t1 - t0)\n",
    "\n",
    "\n",
    "for x, y, width, height, score in coordinates:\n",
    "    x = x - offset//2\n",
    "    y = y - offset//2\n",
    "    cv2.rectangle(img, (x-width//2, y-height//2), (x+width//2, y+height//2), (0, 255, 0))\n",
    "cv2.imwrite(\"detect_torch.jpg\", img) \n"
   ]
  },
  {
   "cell_type": "code",
   "execution_count": null,
   "id": "0d87734e",
   "metadata": {},
   "outputs": [],
   "source": []
  }
 ],
 "metadata": {
  "kernelspec": {
   "display_name": "Python 3 (ipykernel)",
   "language": "python",
   "name": "python3"
  },
  "language_info": {
   "codemirror_mode": {
    "name": "ipython",
    "version": 3
   },
   "file_extension": ".py",
   "mimetype": "text/x-python",
   "name": "python",
   "nbconvert_exporter": "python",
   "pygments_lexer": "ipython3",
   "version": "3.7.16"
  }
 },
 "nbformat": 4,
 "nbformat_minor": 5
}
